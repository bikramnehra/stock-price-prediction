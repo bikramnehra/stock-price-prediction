{
 "cells": [
  {
   "cell_type": "code",
   "execution_count": 31,
   "metadata": {
    "collapsed": false
   },
   "outputs": [
    {
     "data": {
      "text/plain": [
       "['{\"PredictionAClose\": 46.900860300000005, \"Volume\": 36848200.0, \"PerMov\": -0.9002242331120606, \"Symbol\": \"MSFT\", \"High\": 53.290001, \"DayId\": 53, \"Low\": 52.529999, \"Date\": \"2015-11-13\", \"Close\": 52.84, \"PerdictionDir\": \"do\", \"Open\": 53.07, \"Dir\": \"do\", \"AClose\": 52.112067}',\n",
       " '{\"PredictionAClose\": 48.072493800000004, \"Volume\": 32513100.0, \"PerMov\": -1.3838271999491871, \"Symbol\": \"MSFT\", \"High\": 54.869999, \"DayId\": 57, \"Low\": 53.560001, \"Date\": \"2015-11-09\", \"Close\": 54.16, \"PerdictionDir\": \"up\", \"Open\": 54.549999, \"Dir\": \"do\", \"AClose\": 53.413882}',\n",
       " '{\"PredictionAClose\": 41.6790009, \"Volume\": 132900.0, \"PerMov\": 0.0864512643181254, \"Symbol\": \"STMP\", \"High\": 48.32, \"DayId\": 265, \"Low\": 45.740002, \"Date\": \"2015-01-13\", \"Close\": 46.310001, \"PerdictionDir\": \"st\", \"Open\": 46.759998, \"Dir\": \"st\", \"AClose\": 46.310001}',\n",
       " '{\"PredictionAClose\": 102.2759991, \"Volume\": 4040700.0, \"PerMov\": -1.9076383583537018, \"Symbol\": \"TQQQ\", \"High\": 115.940002, \"DayId\": 192, \"Low\": 111.809998, \"Date\": \"2015-04-29\", \"Close\": 113.639999, \"PerdictionDir\": \"st\", \"Open\": 113.910004, \"Dir\": \"do\", \"AClose\": 113.639999}',\n",
       " '{\"PredictionAClose\": 101.64600180000001, \"Volume\": 2729200.0, \"PerMov\": 1.2007204516258212, \"Symbol\": \"TQQQ\", \"High\": 114.379997, \"DayId\": 196, \"Low\": 110.43, \"Date\": \"2015-04-23\", \"Close\": 112.940002, \"PerdictionDir\": \"do\", \"Open\": 110.540001, \"Dir\": \"up\", \"AClose\": 112.940002}',\n",
       " '{\"PredictionAClose\": 66.33448200000001, \"Volume\": 1090600.0, \"PerMov\": 0.8172581137123669, \"Symbol\": \"NTRS\", \"High\": 75.360001, \"DayId\": 185, \"Low\": 74.779999, \"Date\": \"2015-05-08\", \"Close\": 75.25, \"PerdictionDir\": \"do\", \"Open\": 75.0, \"Dir\": \"up\", \"AClose\": 73.70498}',\n",
       " '{\"PredictionAClose\": 111.5549973, \"Volume\": 677700.0, \"PerMov\": -0.7129117498529903, \"Symbol\": \"VRTX\", \"High\": 124.739998, \"DayId\": 24, \"Low\": 122.720001, \"Date\": \"2015-12-28\", \"Close\": 123.949997, \"PerdictionDir\": \"up\", \"Open\": 123.989998, \"Dir\": \"do\", \"AClose\": 123.949997}',\n",
       " '{\"PredictionAClose\": 81.9899982, \"Volume\": 3385800.0, \"PerMov\": -1.2894170409641714, \"Symbol\": \"ESRX\", \"High\": 92.269997, \"DayId\": 131, \"Low\": 90.970001, \"Date\": \"2015-07-27\", \"Close\": 91.099998, \"PerdictionDir\": \"up\", \"Open\": 92.129997, \"Dir\": \"do\", \"AClose\": 91.099998}',\n",
       " '{\"PredictionAClose\": 84.07799820000001, \"Volume\": 5407300.0, \"PerMov\": 1.6650332099796885, \"Symbol\": \"ESRX\", \"High\": 93.900002, \"DayId\": 135, \"Low\": 91.290001, \"Date\": \"2015-07-21\", \"Close\": 93.419998, \"PerdictionDir\": \"do\", \"Open\": 91.879997, \"Dir\": \"up\", \"AClose\": 93.419998}',\n",
       " '{\"PredictionAClose\": 73.1610009, \"Volume\": 842100.0, \"PerMov\": 0.6812026425861489, \"Symbol\": \"CHKP\", \"High\": 81.550003, \"DayId\": 241, \"Low\": 80.620003, \"Date\": \"2015-02-18\", \"Close\": 81.290001, \"PerdictionDir\": \"do\", \"Open\": 80.620003, \"Dir\": \"up\", \"AClose\": 81.290001}']"
      ]
     },
     "execution_count": 31,
     "metadata": {},
     "output_type": "execute_result"
    }
   ],
   "source": [
    "import json\n",
    "from datetime import datetime\n",
    "from random import randint\n",
    "\n",
    "def randomDir():\n",
    "    no = randint(0,2)\n",
    "    if no == 0:\n",
    "        return 'up'\n",
    "    elif no == 1:\n",
    "        return 'do'\n",
    "    else:\n",
    "        return 'st'\n",
    "\n",
    "def mapDate(l):\n",
    "    l['Date'] = datetime.strftime(l['Date'],\"%Y-%m-%d\")\n",
    "    l[\"PerdictionDir\"] = randomDir()\n",
    "    l[\"PredictionAClose\"] = l[\"AClose\"] * 0.9\n",
    "    return l\n",
    "    \n",
    "sc.pickleFile('./LabelsTest').\\\n",
    "    map(mapDate).\\\n",
    "    map(lambda l:json.dumps(l)).\\\n",
    "    coalesce(1).\\\n",
    "    saveAsTextFile('LabelsTestDB')"
   ]
  },
  {
   "cell_type": "code",
   "execution_count": 28,
   "metadata": {
    "collapsed": false
   },
   "outputs": [
    {
     "name": "stdout",
     "output_type": "stream",
     "text": [
      "1\n"
     ]
    }
   ],
   "source": [
    "from random import randint\n",
    "print(randint(0,9))"
   ]
  }
 ],
 "metadata": {
  "kernelspec": {
   "display_name": "Python 2",
   "language": "python",
   "name": "python2"
  },
  "language_info": {
   "codemirror_mode": {
    "name": "ipython",
    "version": 2
   },
   "file_extension": ".py",
   "mimetype": "text/x-python",
   "name": "python",
   "nbconvert_exporter": "python",
   "pygments_lexer": "ipython2",
   "version": "2.7.10"
  }
 },
 "nbformat": 4,
 "nbformat_minor": 0
}

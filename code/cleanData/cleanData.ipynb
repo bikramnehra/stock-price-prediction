{
 "cells": [
  {
   "cell_type": "code",
   "execution_count": 3,
   "metadata": {
    "collapsed": false
   },
   "outputs": [],
   "source": [
    "from xml.dom.minidom import parseString\n",
    "from HTMLParser import HTMLParser\n",
    "import re\n",
    "import datetime"
   ]
  },
  {
   "cell_type": "code",
   "execution_count": 4,
   "metadata": {
    "collapsed": false
   },
   "outputs": [],
   "source": [
    "# code copy start\n",
    "# http://stackoverflow.com/questions/753052/strip-html-from-strings-in-python\n",
    "\n",
    "class MLStripper(HTMLParser):\n",
    "    def __init__(self):\n",
    "        self.reset()\n",
    "        self.fed = []\n",
    "    def handle_data(self, d):\n",
    "        self.fed.append(d)\n",
    "    def get_data(self):\n",
    "        return ''.join(self.fed)\n",
    "\n",
    "def strip_tags(html):\n",
    "    s = MLStripper()\n",
    "    s.feed(html)\n",
    "    data = s.get_data().replace('\\n',' ')\n",
    "    ret = u' '.join(data.split())\n",
    "    return ret\n",
    "\n",
    "# code copy finish\n",
    "\n",
    "def getTitleAndDescription(item):\n",
    "    title = item.getElementsByTagName('title')[0].firstChild.data\n",
    "    title = strip_tags(title)\n",
    "    description = item.getElementsByTagName('description')[0].firstChild.data\n",
    "    description = strip_tags(description)\n",
    "    pubDate = item.getElementsByTagName('pubDate')[0].firstChild.data\n",
    "    pubDate = strip_tags(pubDate).split(\" \")\n",
    "    pubDate = '-'.join(pubDate[1:4])\n",
    "    dt = datetime.datetime.strptime(pubDate, \"%d-%b-%Y\")\n",
    "    return (dt,[(title,description)])\n",
    "\n",
    "def getNewsList(xml):\n",
    "    items = parseString(xml).getElementsByTagName('item')\n",
    "    return map(getTitleAndDescription,items)\n",
    "\n",
    "def flatNewsList((k,v)):\n",
    "    arr = k.split('-')[1:]\n",
    "    k = k.split('-')[0]\n",
    "    v = map(lambda (d,arr):((k,d),arr),v)\n",
    "    if len(v) == 0:\n",
    "        dt = datetime.datetime.strptime('-'.join(arr), \"%Y-%m-%d\")+datetime.timedelta(days=-1)\n",
    "        return [((k,dt),[('','')])]\n",
    "    return v"
   ]
  },
  {
   "cell_type": "code",
   "execution_count": 7,
   "metadata": {
    "collapsed": false
   },
   "outputs": [],
   "source": [
    "indexNews = sc.wholeTextFiles('./indexNews',use_unicode=False)\n",
    "\n",
    "rawData = sc.pickleFile('./dataPickle3').\\\n",
    "            union(indexNews).\\\n",
    "            map(lambda (k,v):(k.split('/')[-1],v)).\\\n",
    "            map(lambda (k,v):(k.split('.')[0],getNewsList(v))).\\\n",
    "            flatMap(flatNewsList).\\\n",
    "            reduceByKey(lambda a1,a2:a1+a2).cache().\\\n",
    "            saveAsPickleFile('ProcessedData')"
   ]
  },
  {
   "cell_type": "code",
   "execution_count": 8,
   "metadata": {
    "collapsed": false
   },
   "outputs": [
    {
     "ename": "AttributeError",
     "evalue": "'NoneType' object has no attribute 'filter'",
     "output_type": "error",
     "traceback": [
      "\u001b[1;31m---------------------------------------------------------------------------\u001b[0m",
      "\u001b[1;31mAttributeError\u001b[0m                            Traceback (most recent call last)",
      "\u001b[1;32m<ipython-input-8-5cc1b0fb94ae>\u001b[0m in \u001b[0;36m<module>\u001b[1;34m()\u001b[0m\n\u001b[1;32m----> 1\u001b[1;33m \u001b[0mrawData\u001b[0m\u001b[1;33m.\u001b[0m\u001b[0mfilter\u001b[0m\u001b[1;33m(\u001b[0m\u001b[1;32mlambda\u001b[0m \u001b[1;33m(\u001b[0m\u001b[0mk\u001b[0m\u001b[1;33m,\u001b[0m\u001b[0mv\u001b[0m\u001b[1;33m)\u001b[0m\u001b[1;33m:\u001b[0m\u001b[0mlen\u001b[0m\u001b[1;33m(\u001b[0m\u001b[0mv\u001b[0m\u001b[1;33m)\u001b[0m \u001b[1;33m==\u001b[0m \u001b[1;36m1\u001b[0m\u001b[1;33m)\u001b[0m\u001b[1;33m.\u001b[0m\u001b[0mcount\u001b[0m\u001b[1;33m(\u001b[0m\u001b[1;33m)\u001b[0m\u001b[1;33m,\u001b[0m\u001b[0mrawData\u001b[0m\u001b[1;33m.\u001b[0m\u001b[0mcount\u001b[0m\u001b[1;33m(\u001b[0m\u001b[1;33m)\u001b[0m\u001b[1;33m\u001b[0m\u001b[0m\n\u001b[0m",
      "\u001b[1;31mAttributeError\u001b[0m: 'NoneType' object has no attribute 'filter'"
     ]
    }
   ],
   "source": [
    "rawData.filter(lambda (k,v):len(v) == 1).count(),rawData.count()"
   ]
  }
 ],
 "metadata": {
  "kernelspec": {
   "display_name": "Python 2",
   "language": "python",
   "name": "python2"
  },
  "language_info": {
   "codemirror_mode": {
    "name": "ipython",
    "version": 2
   },
   "file_extension": ".py",
   "mimetype": "text/x-python",
   "name": "python",
   "nbconvert_exporter": "python",
   "pygments_lexer": "ipython2",
   "version": "2.7.10"
  }
 },
 "nbformat": 4,
 "nbformat_minor": 0
}

{
 "cells": [
  {
   "cell_type": "code",
   "execution_count": 1,
   "metadata": {
    "collapsed": false
   },
   "outputs": [],
   "source": [
    "import string\n",
    "from pyspark.mllib.feature import Word2Vec,Word2VecModel\n",
    "\n",
    "def getPreProcessedWords(s):\n",
    "    for punc in string.punctuation:\n",
    "        s = s.replace(punc,' ')\n",
    "    words = s.lower().split()\n",
    "    return words\n",
    "\n",
    "rawData = sc.pickleFile('./ProcessedData')\n",
    "words = rawData.flatMap(lambda (k,v):v).\\\n",
    "        map(lambda v:v[1]).\\\n",
    "        map(getPreProcessedWords).cache()\n",
    "        \n",
    "word2vec = Word2Vec()\n",
    "model = word2vec.fit(words)\n",
    "model.save(sc,\"word2vecModel\")"
   ]
  },
  {
   "cell_type": "code",
   "execution_count": 2,
   "metadata": {
    "collapsed": false
   },
   "outputs": [],
   "source": [
    "res = model.getVectors()\n",
    "keys = []\n",
    "count = 0\n",
    "for i in res:\n",
    "    keys.append((i,model.transform(i)))\n",
    "    count = count + 1"
   ]
  },
  {
   "cell_type": "code",
   "execution_count": 3,
   "metadata": {
    "collapsed": false
   },
   "outputs": [
    {
     "data": {
      "text/plain": [
       "129923"
      ]
     },
     "execution_count": 3,
     "metadata": {},
     "output_type": "execute_result"
    }
   ],
   "source": [
    "len(keys)"
   ]
  },
  {
   "cell_type": "code",
   "execution_count": 4,
   "metadata": {
    "collapsed": false
   },
   "outputs": [],
   "source": [
    "#wordFeatures = map(lambda l:res[l],keys)\n",
    "#wordFeatures = filter(lambda l:l!=None,wordFeatures)\n",
    "sc.parallelize(keys).\\\n",
    "saveAsPickleFile('wordFeatures')"
   ]
  },
  {
   "cell_type": "code",
   "execution_count": 37,
   "metadata": {
    "collapsed": false
   },
   "outputs": [],
   "source": [
    "def mapVector(word,model):\n",
    "    try:\n",
    "        return (word,model.transform(word))\n",
    "    except Exception,e:\n",
    "        return None\n",
    "    \n",
    "distinctWords = words.flatMap(lambda l:l).distinct().collect()"
   ]
  },
  {
   "cell_type": "code",
   "execution_count": 1,
   "metadata": {
    "collapsed": false
   },
   "outputs": [],
   "source": [
    "import string\n",
    "from pyspark.mllib.feature import Word2Vec,Word2VecModel\n",
    "model = Word2VecModel.load(sc, \"word2vecModel\")"
   ]
  },
  {
   "cell_type": "code",
   "execution_count": 2,
   "metadata": {
    "collapsed": false
   },
   "outputs": [],
   "source": [
    "res = model.getVectors()"
   ]
  },
  {
   "cell_type": "code",
   "execution_count": 16,
   "metadata": {
    "collapsed": false
   },
   "outputs": [],
   "source": [
    "keys = []\n",
    "count = 0\n",
    "for i in res:\n",
    "    keys.append((i,model.transform(i)))\n",
    "    count = count + 1"
   ]
  },
  {
   "cell_type": "code",
   "execution_count": 17,
   "metadata": {
    "collapsed": false
   },
   "outputs": [
    {
     "data": {
      "text/plain": [
       "83475"
      ]
     },
     "execution_count": 17,
     "metadata": {},
     "output_type": "execute_result"
    }
   ],
   "source": [
    "len(keys)"
   ]
  },
  {
   "cell_type": "code",
   "execution_count": null,
   "metadata": {
    "collapsed": false
   },
   "outputs": [],
   "source": []
  }
 ],
 "metadata": {
  "kernelspec": {
   "display_name": "Python 2",
   "language": "python",
   "name": "python2"
  },
  "language_info": {
   "codemirror_mode": {
    "name": "ipython",
    "version": 2
   },
   "file_extension": ".py",
   "mimetype": "text/x-python",
   "name": "python",
   "nbconvert_exporter": "python",
   "pygments_lexer": "ipython2",
   "version": "2.7.10"
  }
 },
 "nbformat": 4,
 "nbformat_minor": 0
}

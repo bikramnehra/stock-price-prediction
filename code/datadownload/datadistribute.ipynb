{
 "cells": [
  {
   "cell_type": "code",
   "execution_count": 1,
   "metadata": {
    "collapsed": false
   },
   "outputs": [],
   "source": [
    "sc.wholeTextFiles('./data/',use_unicode=False).\\\n",
    "    repartition(1000).\\\n",
    "    saveAsPickleFile('./dataPickle')"
   ]
  },
  {
   "cell_type": "code",
   "execution_count": 4,
   "metadata": {
    "collapsed": false
   },
   "outputs": [
    {
     "data": {
      "text/plain": [
       "[(u'file:/home/jivjot/git/stockPricePrediction/datadownload/data/STMP-2013-07-13.xml',\n",
       "  u'<?xml version=\"1.0\" encoding=\"UTF-8\"?>\\n<rss version=\"2.0\">\\n<channel>\\n<title>News for Stamps.com Inc. - Google Finance</title>\\n<description>News for Stamps.com Inc. - Google Finance</description>\\n<link>http://www.google.ca/finance?q=NASDAQ:STMP&amp;amp;client=news-rss&amp;amp;ei=dqzdVomsKKO8iQKbj6SABw</link>\\n<image>\\n<title>News for Stamps.com Inc. - Google Finance</title>\\n<url>/finance/s/HeRQIg9C9Us/images/logo_ca.gif</url>\\n<link>http://www.google.ca/finance?q=NASDAQ:STMP&amp;amp;client=news-rss&amp;amp;ei=dqzdVomsKKO8iQKbj6SABw</link>\\n</image>\\n<item>\\n<title>9 2013 Movies Written By Women That Everyone Should See ASAP</title>\\n<link>http://www.huffingtonpost.com/2013/07/12/movies-written-by-women-2013_n_3587078.html</link>\\n<guid isPermaLink=\"false\">tag:finance.google.ca,cluster:http://www.huffingtonpost.com/2013/07/12/movies-written-by-women-2013_n_3587078.html</guid>\\n<pubDate>Fri, 12 Jul 2013 21:43:01 GMT</pubDate>\\n<description>\\n&lt;div style=&quot;padding:0px; margin-bottom:1.5em;&quot;&gt;\\n&lt;a href=&quot;http://www.huffingtonpost.com/2013/07/12/movies-written-by-women-2013_n_3587078.html&quot; style=&quot;font-size:1.2em&quot;&gt;9 2013 Movies Written By Women That Everyone Should See ASAP&lt;/a&gt;\\n&lt;br&gt; &lt;span style=&quot;color:#888888;&quot;&gt;Huffington Post&lt;/span&gt; - &lt;span style=&quot;white-space:nowrap&quot;&gt;Jul 12, 2013 &lt;/span&gt;\\n&lt;div style=&quot;width:80%;&quot;&gt;by Taboola by Taboola &amp;middot; Sponsored Links Sponsored Links &amp;middot; Promoted Links Promoted Links. YOU MAY LIKE. LendingTree &amp;middot; Is This 2-Step Method The Fastest Way To Pay Off $10,000 in Credit Card Debt?&lt;/div&gt;\\n&lt;/div&gt;\\n</description>\\n</item>\\n</channel>\\n</rss>\\n')]"
      ]
     },
     "execution_count": 4,
     "metadata": {},
     "output_type": "execute_result"
    }
   ],
   "source": [
    "sc.pickleFile('./dataPickle/').take(1)"
   ]
  }
 ],
 "metadata": {
  "kernelspec": {
   "display_name": "Python 2",
   "language": "python",
   "name": "python2"
  },
  "language_info": {
   "codemirror_mode": {
    "name": "ipython",
    "version": 2
   },
   "file_extension": ".py",
   "mimetype": "text/x-python",
   "name": "python",
   "nbconvert_exporter": "python",
   "pygments_lexer": "ipython2",
   "version": "2.7.10"
  }
 },
 "nbformat": 4,
 "nbformat_minor": 0
}
